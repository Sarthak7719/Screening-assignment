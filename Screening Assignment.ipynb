{
 "cells": [
  {
   "cell_type": "markdown",
   "id": "b243b047",
   "metadata": {},
   "source": [
    "# Q1 - Create a function in python to read the text file and replace specific content"
   ]
  },
  {
   "cell_type": "code",
   "execution_count": 1,
   "id": "9572637c",
   "metadata": {},
   "outputs": [],
   "source": [
    "def ReplaceContent(a):\n",
    "    f = open(a, 'w')\n",
    "    f.write(\"This is a Placement Assignment\")\n",
    "    f = open(a, 'r+')\n",
    "    s = f.read()\n",
    "    s1 = s.replace(\"Placement\" , \"Screening\")\n",
    "    f.close()\n",
    "    f = open(a , 'w+')\n",
    "    f.write(s1)\n",
    "    f = open(a , 'r')\n",
    "    return s , f.read()"
   ]
  },
  {
   "cell_type": "code",
   "execution_count": 2,
   "id": "73b2af0a",
   "metadata": {},
   "outputs": [
    {
     "data": {
      "text/plain": [
       "('This is a Placement Assignment', 'This is a Screening Assignment')"
      ]
     },
     "execution_count": 2,
     "metadata": {},
     "output_type": "execute_result"
    }
   ],
   "source": [
    "ReplaceContent('example.txt')"
   ]
  },
  {
   "cell_type": "code",
   "execution_count": null,
   "id": "9cf04c9b",
   "metadata": {},
   "outputs": [],
   "source": []
  },
  {
   "cell_type": "code",
   "execution_count": null,
   "id": "ad7f7a9c",
   "metadata": {},
   "outputs": [],
   "source": []
  },
  {
   "cell_type": "markdown",
   "id": "e8ad9fa6",
   "metadata": {},
   "source": [
    "# Q2 - Demonstrate use of abstract class, multiple inheritance and decorator in Python using examples\n"
   ]
  },
  {
   "cell_type": "code",
   "execution_count": 4,
   "id": "6597fe81",
   "metadata": {},
   "outputs": [
    {
     "name": "stdout",
     "output_type": "stream",
     "text": [
      "Car Created\n",
      "Bus Created\n"
     ]
    }
   ],
   "source": [
    "#ABSTARCT CLASS\n",
    "\n",
    "\n",
    "from abc import ABC,abstractmethod\n",
    "\n",
    "\n",
    "class Automobile(ABC):\n",
    "    def __init__(self):\n",
    "        print(\"Automobile created\")\n",
    "    @abstractmethod    \n",
    "    def start(self):\n",
    "        pass\n",
    "    @abstractmethod \n",
    "    def stop(self):\n",
    "        pass\n",
    "    @abstractmethod \n",
    "    def drive(self):\n",
    "        pass\n",
    "class Car(Automobile):\n",
    "    def __init__(self,name):\n",
    "        print(\"Car Created\")\n",
    "        self.name = name\n",
    "    def start(self):\n",
    "        pass\n",
    "    def stop(self):\n",
    "        pass\n",
    "    def drive(self):\n",
    "        pass\n",
    "class Bus(Automobile):\n",
    "    def __init__(self,name):\n",
    "        print(\"Bus Created\")\n",
    "        self.name = name\n",
    "    def start(self):\n",
    "        pass\n",
    "    def stop(self):\n",
    "        pass\n",
    "    def drive(self):\n",
    "        pass\n",
    "    \n",
    "c = Car('Tata')\n",
    "b = Bus('UP Bus')\n",
    "\n",
    "\n",
    "# You have to implement all the abstract methods in the child class\n",
    "# Objects of Abstract Class cannot be created"
   ]
  },
  {
   "cell_type": "code",
   "execution_count": 5,
   "id": "05525058",
   "metadata": {},
   "outputs": [
    {
     "name": "stdout",
     "output_type": "stream",
     "text": [
      "Print of Mother Called\n"
     ]
    }
   ],
   "source": [
    "## Multiple Inheritance\n",
    "\n",
    "\n",
    "class Mother:\n",
    "    def print(self):\n",
    "        print(\"Print of Mother Called\")\n",
    "class Father:\n",
    "    def print(self):\n",
    "        print(\"Print of Father Called\")\n",
    "class child(Mother, Father):\n",
    "    def __init__(self, name):\n",
    "        self.name = name\n",
    "    def printChild(self):\n",
    "        print(\"Name of Child is\", self.name)\n",
    "        \n",
    "c = child(\"Rohan\")\n",
    "c.print()"
   ]
  },
  {
   "cell_type": "code",
   "execution_count": null,
   "id": "eebda253",
   "metadata": {},
   "outputs": [],
   "source": []
  },
  {
   "cell_type": "code",
   "execution_count": 9,
   "id": "d2ad261a",
   "metadata": {},
   "outputs": [
    {
     "name": "stdout",
     "output_type": "stream",
     "text": [
      "This is First Function\n",
      "This is Third Function\n",
      "This is Second Function \n"
     ]
    }
   ],
   "source": [
    "#DECORATOR\n",
    "\n",
    "def decorator(func):\n",
    "    \n",
    "    def function1():\n",
    "        print(\"This is First Function\")\n",
    "        func() \n",
    "        print(\"This is Second Function \")\n",
    "    return function1\n",
    "\n",
    "\n",
    "def function3():\n",
    "    print(\"This is Third Function\")\n",
    "    \n",
    "\n",
    "function3 = decorator(function3)\n",
    "\n",
    "function3()\n"
   ]
  },
  {
   "cell_type": "code",
   "execution_count": null,
   "id": "254e16fc",
   "metadata": {},
   "outputs": [],
   "source": []
  }
 ],
 "metadata": {
  "kernelspec": {
   "display_name": "Python 3",
   "language": "python",
   "name": "python3"
  },
  "language_info": {
   "codemirror_mode": {
    "name": "ipython",
    "version": 3
   },
   "file_extension": ".py",
   "mimetype": "text/x-python",
   "name": "python",
   "nbconvert_exporter": "python",
   "pygments_lexer": "ipython3",
   "version": "3.8.8"
  }
 },
 "nbformat": 4,
 "nbformat_minor": 5
}
